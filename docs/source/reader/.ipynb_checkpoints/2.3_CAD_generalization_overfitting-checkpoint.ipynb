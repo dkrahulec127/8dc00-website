{
 "cells": [
  {
   "cell_type": "markdown",
   "metadata": {},
   "source": [
    "# Topic 2.3: Generalization and overfitting\n",
    "\n",
    "This notebook combines theory with exercises to support the understanding of generalization and overfitting in neural networks. Implement all functions in the `code` folder of your cloned repository, and test it in this notebook after implementation by importing your functions to this notebook. Use available markdown sections to fill in your answers to questions as you proceed through the notebook.\n",
    "\n",
    "**Contents:** <br>\n",
    "\n",
    "1. [Learning process of a neral network](#learning_process_nn)\n",
    "2. [Generalization and overfitting](#generalization_overfitting)<br>\n",
    "\n",
    "    2.1 [Learning curves](#learning_curves)<br>\n",
    "    \n",
    "    2.2 [Learning curves - pen and paper exercise](#pen_paper)<br>\n",
    "    \n",
    "    2.3 [Feature curves (OPTIONAL)](#feature_curve)<br>\n",
    "    \n",
    "    2.4 [Distances in high dimensions (OPTIONAL)](#distances)<br>\n",
    "    \n",
    "    2.5 [More surprising properties of high dimensions (OPTIONAL)](#surprising_props)<br>\n",
    "    \n",
    "    2.6 [k-different features, different samples (OPTIONAL)](#k_different_features)<br>"
   ]
  },
  {
   "cell_type": "code",
   "execution_count": 5,
   "metadata": {
    "scrolled": true
   },
   "outputs": [
    {
     "name": "stdout",
     "output_type": "stream",
     "text": [
      "The autoreload extension is already loaded. To reload it, use:\n",
      "  %reload_ext autoreload\n"
     ]
    }
   ],
   "source": [
    "%load_ext autoreload\n",
    "%autoreload 2"
   ]
  },
  {
   "cell_type": "markdown",
   "metadata": {},
   "source": [
    "<a id='learning_process_nn'></a>\n",
    "<div style=\"float:right;margin:-5px 5px\"><img src=\"../reader/assets/read_ico.png\" width=\"42\" height=\"42\"></div>\n",
    "\n",
    "## 1. Learning process of a neural network\n",
    "Before learning about generalization and overfitting, let's first understand how a neural network learns. As humans we are capable of learnign many tasks throughout our lives. We can for example easily distinguish cats from dogs in a picture, but we were not able to do this as newborns and we had to learn this along the way. In our upbringing, constant feedback is given by parents and teachers to make sure that we can recognize different common animals or objects. So after a while you simply know what animal you are seeing by taking a quick look at the animal. However, we find it more difficult to recognize rare animals, the reason for this is that we did not see many examples of these rare animals.\n",
    "\n",
    "This principle is exactly the same for a neural network. During the training process, known data is fed into the neural network, and the network makes a prediction about what the data represents. Any error in the prediction is used as feedback. As the training process continues, the network weights are adjusted (using backpropagation) until the network is making accurate predictions. Then the model is ready and can be used to make predictions for unseen images in the inference stage. This process is visualized in the figure below. As you can see, the model is only trained on three classes of images (triangles, stars and circles), therefore it will never be able to classify other shapes. However, the model is able to classify a green star as a star even though this exact color star is not seen during training, but simply because the training data consists of a large variety of colors.\n",
    "\n",
    "<center width=\"100%\"><img src=\"../reader/assets/00_training_inference.jpg\" width=\"800\"></center>\n"
   ]
  },
  {
   "cell_type": "markdown",
   "metadata": {},
   "source": [
    "<a id='generalization_overfitting'></a>\n",
    "<div style=\"float:right;margin:-5px 5px\"><img src=\"../reader/assets/read_ico.png\" width=\"42\" height=\"42\"></div>\n",
    "\n",
    "## 2. Generalization and overfitting\n",
    "\n",
    "Generalization and overfitting are crucial terms in machine learning algorithms. Generalization describes a model's ability to make accurate predictions based on new data previously absent from the training dataset. Model's generalization capability can be thought of as a success measure in making accurate predictions. However, if a model has been trained too well on training data, it will make inaccurate predictions on new data. The opposite holds as well. Underfitting can happen when a model has been trained insufficiently.\n",
    "\n",
    "In practice, three datasets are used in deep learning research:\n",
    "\n",
    "1. **Training set** - The training set is used for training the model (i.e. iteratively updating the network weights to minimize the error).\n",
    "2. **Validation set** - At the inference phase, the validation set is used for two purposes: \n",
    "\n",
    "    - Check for model overfitting: Sometimes the model is able to 'remember' all the training examples, which means that the model will not generalize well to unseen data at the inference phase. Overfitting can be detected by inspecting the training and validation loss over time. The loss function is often based on the error between the model prediction and the desired output, this means that you want to minimize the loss function. As you can see in the figure below, the training and validation loss show the same pattern when the model is not overfitting (left figure). When the model is overfitting to the training data, you see that the training and validation loss start to diverge after a certain number of epochs (right figure), this tells you that the model is not generalizing well to new data.\n",
    "    <center width=\"100%\"><img src=\"../reader/assets/00_overfitting.jpg\" width=\"880\"></center>\n",
    "\n",
    "    - Tuning of model parameters: Many parameters (e.g. number of layers, loss function, learning rate, etc.) influence the performance of the model for a specific task. The performance can often be measured with a quantitative metric because the desired output (ground truth) is known for the validation set. By systematically adapting model parameters and evaluating the performance, the optimal parameters can be chosen.\n",
    "        \n",
    "        \n",
    "3. **Test set** - The test set is used to show the final performance of the model on a unseen set. This performance can give an indication of how the model will perform when it is implemented in for example the clinic (with the assumption that the test set resembles the real clinical data in terms of population and acquisition protocol)."
   ]
  },
  {
   "cell_type": "markdown",
   "metadata": {},
   "source": [
    "<a id='learning_curves'></a>\n",
    "\n",
    "### 2.1. Learning curves\n",
    "\n",
    "Let's investigate how different sizes of the training set affect the results. So far you have been using a training set of 100 samples. Are these good values? Maybe we can do with less samples, or we can improve if we add more? \n",
    "\n",
    "\n",
    "<div style=\"float:right;margin:-5px 5px\"><img src=\"../reader/assets/todo_ico.png\" width=\"42\" height=\"42\"></div>\n",
    "\n",
    "### *Exercise 2.1.1*:\n",
    "Use the provided script `learning_curve()` in `SECTION 2` of the `segmentation_tests.py` module. Run the script, which will produce a plot of the error against the size of the training set. What training set size would you say is good enough, i.e. the performance does not increase a lot afterwards? What about if you load the brain data instead of the Gaussian datasets?"
   ]
  },
  {
   "cell_type": "code",
   "execution_count": 1,
   "metadata": {},
   "outputs": [
    {
     "name": "stdout",
     "output_type": "stream",
     "text": [
      "train_size = 1, iter = 0\n",
      "train_size = 1, iter = 1\n",
      "train_size = 1, iter = 2\n",
      "train_size = 3, iter = 0\n",
      "train_size = 3, iter = 1\n",
      "train_size = 3, iter = 2\n",
      "train_size = 10, iter = 0\n",
      "train_size = 10, iter = 1\n",
      "train_size = 10, iter = 2\n",
      "train_size = 30, iter = 0\n",
      "train_size = 30, iter = 1\n",
      "train_size = 30, iter = 2\n",
      "train_size = 100, iter = 0\n",
      "train_size = 100, iter = 1\n",
      "train_size = 100, iter = 2\n",
      "train_size = 300, iter = 0\n",
      "train_size = 300, iter = 1\n",
      "train_size = 300, iter = 2\n"
     ]
    },
    {
     "data": {
      "image/png": "[encoded data removed]",
      "text/plain": [
       "<Figure size 576x576 with 1 Axes>"
      ]
     },
     "metadata": {
      "needs_background": "light"
     },
     "output_type": "display_data"
    }
   ],
   "source": [
    "%matplotlib inline\n",
    "import sys\n",
    "sys.path.append(\"../code\")\n",
    "from segmentation_tests import learning_curve\n",
    "\n",
    "learning_curve()"
   ]
  },
  {
   "cell_type": "markdown",
   "metadata": {},
   "source": [
    "<div style=\"float:right;margin:-5px 5px\"><img src=\"../reader/assets/todo_ico.png\" width=\"42\" height=\"42\"></div>\n",
    "\n",
    "### *Exercise 2.1.2*:\n",
    "Modify the `learning_curve()` script so that it also plots the training error."
   ]
  },
  {
   "cell_type": "code",
   "execution_count": 2,
   "metadata": {},
   "outputs": [
    {
     "name": "stdout",
     "output_type": "stream",
     "text": [
      "train_size = 1, iter = 0\n",
      "train_size = 1, iter = 1\n",
      "train_size = 1, iter = 2\n",
      "train_size = 3, iter = 0\n",
      "train_size = 3, iter = 1\n",
      "train_size = 3, iter = 2\n",
      "train_size = 10, iter = 0\n",
      "train_size = 10, iter = 1\n",
      "train_size = 10, iter = 2\n",
      "train_size = 30, iter = 0\n",
      "train_size = 30, iter = 1\n",
      "train_size = 30, iter = 2\n",
      "train_size = 100, iter = 0\n",
      "train_size = 100, iter = 1\n",
      "train_size = 100, iter = 2\n",
      "train_size = 300, iter = 0\n",
      "train_size = 300, iter = 1\n",
      "train_size = 300, iter = 2\n"
     ]
    },
    {
     "data": {
      "image/png": "[encoded data removed]",
      "text/plain": [
       "<Figure size 576x576 with 1 Axes>"
      ]
     },
     "metadata": {
      "needs_background": "light"
     },
     "output_type": "display_data"
    }
   ],
   "source": [
    "%matplotlib inline\n",
    "import sys\n",
    "sys.path.append(\"../code\")\n",
    "from segmentation_tests import learning_curve\n",
    "\n",
    "learning_curve()"
   ]
  },
  {
   "cell_type": "markdown",
   "metadata": {},
   "source": [
    "<div style=\"float:right;margin:-5px 5px\"><img src=\"../reader/assets/question_ico.png\" width=\"42\" height=\"42\"></div>\n",
    "\n",
    "### *Question 2.1.1*:\n",
    "From what you learned in class, how do you expect the training error plot to look like for 1-NN classifier?"
   ]
  },
  {
   "cell_type": "markdown",
   "metadata": {},
   "source": [
    "<font style=\"color:red\">Type your answer here</font>"
   ]
  },
  {
   "cell_type": "markdown",
   "metadata": {},
   "source": [
    "<div style=\"float:right;margin:-5px 5px\"><img src=\"../reader/assets/question_ico.png\" width=\"42\" height=\"42\"></div>\n",
    "\n",
    "### *Question 2.1.2*:\n",
    "The 1-NN classifier suffers from overfitting: there is a gap between the training error and the test error. Try other values of $k$ and observe how the learning curves change. What happens?"
   ]
  },
  {
   "cell_type": "markdown",
   "metadata": {},
   "source": [
    "<font style=\"color:red\">Type your answer here</font>"
   ]
  },
  {
   "cell_type": "markdown",
   "metadata": {},
   "source": [
    "<a id='pen_paper'></a>\n",
    "<div style=\"float:right;margin:-5px 5px\"><img src=\"../reader/assets/read_ico.png\" width=\"42\" height=\"42\"></div>\n",
    "\n",
    "### 2.2. Learning curves: pen and paper exercise\n",
    "\n",
    "Consider the following figures, which show the so called \"banana dataset\", and learning curves A, B and C for this dataset. These learning curves are made by two of the following three classifiers: a nearest mean classifier, a 1-nearest neighbor classifier, and a 5-nearest neighbor classifier.\n",
    "\n",
    "<img src=\"../reader/assets/banana_grid.png\" width=\"600\" height=\"600\" align=\"center\"/>\n",
    "<div style=\"text-align: center\"> <b>Figure 2.2.1:</b> top left: dataset, top right: learning curve A, bottom left: learning curve B, bottom right: learning curve C</div>\n"
   ]
  },
  {
   "cell_type": "markdown",
   "metadata": {},
   "source": [
    "<div style=\"float:right;margin:-5px 5px\"><img src=\"../reader/assets/question_ico.png\" width=\"42\" height=\"42\"></div>\n",
    "\n",
    "### *Question 2.2.1*:\n",
    "Which learning curve belongs to which classifier? Explain why you think this is the case."
   ]
  },
  {
   "cell_type": "markdown",
   "metadata": {},
   "source": [
    "<font style=\"color:red\">Type your answer here</font>"
   ]
  },
  {
   "cell_type": "markdown",
   "metadata": {},
   "source": [
    "<div style=\"float:right;margin:-5px 5px\"><img src=\"../reader/assets/question_ico.png\" width=\"42\" height=\"42\"></div>\n",
    "\n",
    "### *Question 2.2.2*:\n",
    "Which learning curve do you think will improve the most if we were to add more training samples? Why?"
   ]
  },
  {
   "cell_type": "markdown",
   "metadata": {},
   "source": [
    "<font style=\"color:red\">Type your answer here</font>"
   ]
  },
  {
   "cell_type": "markdown",
   "metadata": {},
   "source": [
    "<a id='feature_curve'></a>\n",
    "\n",
    "### 2.3. Feature curve (OPTIONAL)\n",
    "\n",
    "<div style=\"float:right;margin:-5px 5px\"><img src=\"../reader/assets/todo_ico.png\" width=\"42\" height=\"42\"></div>\n",
    "\n",
    "### *Exercise 2.3.1*:\n",
    "In this exercise we will see how the number of features influences the classifier, use the provided `feature_curve()` script in `SECTION 2` of the `segmentation_tests.py` module for this. The script simply selects the first 1, 2 features and so forth. If you want, you can sort your features first, so they will be added in the order you specified. For example:\n",
    "\n",
    "```python\n",
    "feature_order = [3, 1, 2, 5, 4]\n",
    "X = X[:, feature_order]\n",
    "```\n",
    "\n",
    "<div style=\"float:right;margin:-5px 5px\"><img src=\"../reader/assets/question_ico.png\" width=\"42\" height=\"42\"></div>\n",
    "\n",
    "### *Question 2.3.1*:\n",
    "What do you see happening to the errors as the number of features increases? Do you get the best performance with all features, or with less? (This depends on which features you have)."
   ]
  },
  {
   "cell_type": "markdown",
   "metadata": {},
   "source": [
    "<font style=\"color:red\">Type your answer here</font>"
   ]
  },
  {
   "cell_type": "code",
   "execution_count": null,
   "metadata": {},
   "outputs": [],
   "source": [
    "%matplotlib inline\n",
    "import sys\n",
    "sys.path.append(\"../code\")\n",
    "from segmentation_tests import feature_curve\n",
    "\n",
    "feature_curve()"
   ]
  },
  {
   "cell_type": "markdown",
   "metadata": {},
   "source": [
    "<div style=\"float:right;margin:-5px 5px\"><img src=\"../reader/assets/question_ico.png\" width=\"42\" height=\"42\"></div>\n",
    "\n",
    "### *Question 2.3.2*:\n",
    "What do you see happening to the errors as the number of features increases? Do you get the best performance with all features, or with less? (This depends on which features you have).\n",
    "\n",
    "Using `np.random.randn()`, replace the data by completely noisy features and run the script again. What happens to the errors now? What behavior of the train error might be surprising?"
   ]
  },
  {
   "cell_type": "code",
   "execution_count": null,
   "metadata": {},
   "outputs": [],
   "source": [
    "%matplotlib inline\n",
    "import sys\n",
    "sys.path.append(\"../code\")\n",
    "from segmentation_tests import feature_curve\n",
    "\n",
    "feature_curve(use_random=True)"
   ]
  },
  {
   "cell_type": "markdown",
   "metadata": {},
   "source": [
    "<font style=\"color:red\">Type your answer here</font>"
   ]
  },
  {
   "cell_type": "markdown",
   "metadata": {},
   "source": [
    "<div style=\"float:right;margin:-5px 5px\"><img src=\"../reader/assets/question_ico.png\" width=\"42\" height=\"42\"></div>\n",
    "\n",
    "### *Question 2.3.3*:\n",
    "Go to the website [http://tylervigen.com/spurious-correlations](http://tylervigen.com/spurious-correlations) and look at the different plots. Explain in your own words, what the previous part of this question, and the phenomenon you see on the website, have in common."
   ]
  },
  {
   "cell_type": "markdown",
   "metadata": {},
   "source": [
    "<font style=\"color:red\">Type your answer here</font>"
   ]
  },
  {
   "cell_type": "markdown",
   "metadata": {},
   "source": [
    "<a id='distances'></a>\n",
    "\n",
    "### 2.4. Distances in high dimensions (OPTIONAL)"
   ]
  },
  {
   "cell_type": "markdown",
   "metadata": {},
   "source": [
    "You might already have the idea that data in high dimensional feature spaces has characteristics that do not correspond to our intuition of how things behave in 2D or 3D. This exercise looks at one of the reasons this happens, by looking at the distribution of the distances."
   ]
  },
  {
   "cell_type": "markdown",
   "metadata": {},
   "source": [
    "<div style=\"float:right;margin:-5px 5px\"><img src=\"../reader/assets/todo_ico.png\" width=\"42\" height=\"42\"></div>\n",
    "\n",
    "### *Exercise 2.4.1*:\n",
    "Use the provided `high_dimensions_demo()` script `SECTION 2` of the `segmentation_tests.py` module to generate 100 samples from a 2D Gaussian distribution, compute all pairwise Euclidean distances and make a histogram of the distances. "
   ]
  },
  {
   "cell_type": "code",
   "execution_count": 13,
   "metadata": {},
   "outputs": [
    {
     "name": "stdout",
     "output_type": "stream",
     "text": [
      "2D Gaussian distribution\n",
      "Mean = 1.7119170239464965, Max = 6.124070966243419, Mean nn = 48.76\n",
      "1000D Gaussian distribution\n",
      "Mean = 44.338243877607304, Max = 48.60148649483076, Mean nn = 46.5\n"
     ]
    },
    {
     "data": {
      "image/png": "[encoded data removed]",
      "text/plain": [
       "<Figure size 1080x720 with 3 Axes>"
      ]
     },
     "metadata": {
      "needs_background": "light"
     },
     "output_type": "display_data"
    }
   ],
   "source": [
    "%matplotlib inline\n",
    "import sys\n",
    "sys.path.append(\"../code\")\n",
    "from segmentation_tests import high_dimensions_demo\n",
    "\n",
    "high_dimensions_demo()"
   ]
  },
  {
   "cell_type": "markdown",
   "metadata": {},
   "source": [
    "<div style=\"float:right;margin:-5px 5px\"><img src=\"../reader/assets/question_ico.png\" width=\"42\" height=\"42\"></div>\n",
    "\n",
    "### *Question 2.4.1*:\n",
    "What average, and what maximum distance do you observe? What is the average nearest neighbor distance?"
   ]
  },
  {
   "cell_type": "markdown",
   "metadata": {},
   "source": [
    "<font style=\"color:red\">Type your answer here</font>"
   ]
  },
  {
   "cell_type": "markdown",
   "metadata": {},
   "source": [
    "<div style=\"float:right;margin:-5px 5px\"><img src=\"../reader/assets/question_ico.png\" width=\"42\" height=\"42\"></div>\n",
    "\n",
    "### *Question 2.4.2*:\n",
    "The second subplot of the resulting figure above shows the result when a 1000D Gaussian distribution is used instead of a 2D one. How do the distances change? What does this tell you about finding nearest neighbors in high dimensions?"
   ]
  },
  {
   "cell_type": "markdown",
   "metadata": {},
   "source": [
    "<font style=\"color:red\">Type your answer here</font>"
   ]
  },
  {
   "cell_type": "markdown",
   "metadata": {},
   "source": [
    "<a id='surprising_props'></a>\n",
    "\n",
    "### 2.5. More surprising properties of high dimensions (OPTIONAL)"
   ]
  },
  {
   "cell_type": "markdown",
   "metadata": {},
   "source": [
    "Think about 100 uniformly distributed samples on a unit line, unit square, unit cube, etc. If it helps your thinking, think about 100 people standing on a line of 100 meters, on a field of 100x100, or spread out in a 100x100x100 building."
   ]
  },
  {
   "cell_type": "markdown",
   "metadata": {},
   "source": [
    "<div style=\"float:right;margin:-5px 5px\"><img src=\"../reader/assets/question_ico.png\" width=\"42\" height=\"42\"></div>\n",
    "\n",
    "### *Question 2.5.1*:\n",
    "Let's take the line. How far does a person on average need to travel along the line, to find 1% of the others (i.e. 1 person)?"
   ]
  },
  {
   "cell_type": "markdown",
   "metadata": {},
   "source": [
    "<font style=\"color:red\">Type your answer here</font>"
   ]
  },
  {
   "cell_type": "markdown",
   "metadata": {},
   "source": [
    "<div style=\"float:right;margin:-5px 5px\"><img src=\"../reader/assets/question_ico.png\" width=\"42\" height=\"42\"></div>\n",
    "\n",
    "### *Question 2.5.2*:\n",
    "What about the square - how far does a person need to travel *in each direction* to find another person? Now it is 10 meters - by travelling 10 meters in each direction, you have covered 100$m^{2}$, which is 1% of the total space available."
   ]
  },
  {
   "cell_type": "markdown",
   "metadata": {},
   "source": [
    "<font style=\"color:red\">Type your answer here</font>"
   ]
  },
  {
   "cell_type": "markdown",
   "metadata": {},
   "source": [
    "<div style=\"float:right;margin:-5px 5px\"><img src=\"../reader/assets/question_ico.png\" width=\"42\" height=\"42\"></div>\n",
    "\n",
    "### *Question 2.5.3*:\n",
    "We can calculate this for any dimensionality with the formula $r^m = V$, where $r$ is the fraction that needs to be travelled (i.e. 0.01 for 1%), $m$ is the dimensionality, and $V$ is the volume of the data we are searching for (again 0.01 in this example).\n",
    "\n",
    "Have a look at the output plots of `high_dimensions_demo()`, which shows the fraction travelled against the number of dimensions, for 1 to 10 dimensions. How far do you need to travel to find a nearest neighbor in 10 dimensions? What does this mean for the concept of \"neighborhood\" in high-dimensional spaces?"
   ]
  },
  {
   "cell_type": "markdown",
   "metadata": {},
   "source": [
    "<font style=\"color:red\">Type your answer here</font>"
   ]
  },
  {
   "cell_type": "markdown",
   "metadata": {},
   "source": [
    "<a id='k_different_features'></a>\n",
    "\n",
    "<div style=\"float:right;margin:-5px 5px\"><img src=\"../reader/assets/read_ico.png\" width=\"42\" height=\"42\"></div>\n",
    "\n",
    "### 2.6. k-Different features, different samples (OPTIONAL)\n",
    "\n",
    "Recall that $k$-NN is sensitive to scaling. Because of this, some features will have a much bigger influence on the classifier than the others. To remove such differences, features are often normalized to \"zero mean, unit variance\", as in the `normalize_data` function. This can be done in two ways:\n",
    "\n",
    "- Normalizing ALL data, before splitting it up into training and test data\n",
    "- Normalizing the training data, and then applying the same normalization to the test data, by providing the test data as the second input to the `normalize_data` function.\n",
    "\n",
    "It is NOT correct to normalize the training and test data separately. To understand why, think of the Alice/Bob/Carol data as the training set, and Dave and Earl as the test set:\n",
    "\n",
    "\n",
    "|  person | weight (kg)| height (m)|\n",
    "|---------|------------|-----------|\n",
    "| Alice | 55 | 1.6 |\n",
    "| Bob | 60 | 1.7 |\n",
    "| Carol | 65 | 1.8 |\n",
    "\n",
    "\n",
    "|  person | weight (kg)| height (m)|\n",
    "|---------|------------|-----------|\n",
    "| Dave | 65 | 1.8 |\n",
    "| Earl | 75 | 1.9 |\n",
    "\n",
    "<div style=\"float:right;margin:-5px 5px\"><img src=\"../reader/assets/question_ico.png\" width=\"42\" height=\"42\"></div>\n",
    "\n",
    "### *Question 2.6.1*:\n",
    "What goes wrong if you normalize these datasets separately?"
   ]
  },
  {
   "cell_type": "markdown",
   "metadata": {},
   "source": [
    "<font style=\"color:red\">Type your answer here</font>"
   ]
  },
  {
   "cell_type": "markdown",
   "metadata": {},
   "source": [
    "So far you have been using all the features for the classifier, but it is possible to only select a subset. You can experiment with this as follows:\n",
    "\n",
    "```python\n",
    "# Normalize data\n",
    "train_data, test_data = seg.normalize_data(train_data, test_data)\n",
    "# Define which features to select\n",
    "ix = [1, 2, 4]\n",
    "# Train the classifier\n",
    "pred_labels = seg.knn_classifier(train_data[:, ix], train_labels, test_data[:, ix], k=1)\n",
    "```\n",
    "\n",
    "<div style=\"float:right;margin:-5px 5px\"><img src=\"../reader/assets/question_ico.png\" width=\"42\" height=\"42\"></div>\n",
    "\n",
    "### *Question 2.6.2*:\n",
    "Think about the scatterplots you created last week, and which features seemed to be better for the brain/non brain problem. Experiment with selecting one or more of these features. Do not forget to normalize your data first. Can you improve your classifier performance? How many possible combinations of features are there in total?"
   ]
  },
  {
   "cell_type": "markdown",
   "metadata": {},
   "source": [
    "<font style=\"color:red\">Type your answer here</font>"
   ]
  },
  {
   "cell_type": "markdown",
   "metadata": {},
   "source": [
    "<div style=\"float:right;margin:-5px 5px\"><img src=\"../reader/assets/todo_ico.png\" width=\"42\" height=\"42\"></div>\n",
    "\n",
    "### *Exercise 2.6.1*:\n",
    "To avoid trying all combinations you could create a \"forward feature selection\" loop where you first select the best feature, based on its performance on the training set (NOT the test set - you can only use it to evaluate the final classier), then select the feature that gives the best combination with the first feature and so forth."
   ]
  },
  {
   "cell_type": "markdown",
   "metadata": {},
   "source": [
    "<div style=\"float:right;margin:-5px 5px\"><img src=\"../reader/assets/todo_ico.png\" width=\"42\" height=\"42\"></div>\n",
    "\n",
    "### *Exercise 2.6.2*:\n",
    "Instead of selecting features, let's experiment with extracting features with PCA. For a training and a test set, this is similar to scaling features: perform PCA on all data together, or perform PCA only on the training set, and then apply the same rotation to the test set:\n",
    "\n",
    "```python\n",
    "X_pca, v, w, fraction_variance = seg.mypca(train_data)\n",
    "test_pca = v.T.dot(test_data.T)\n",
    "test_pca = test_pca.T\n",
    "```\n",
    "\n",
    "<div style=\"float:right;margin:-5px 5px\"><img src=\"../reader/assets/question_ico.png\" width=\"42\" height=\"42\"></div>\n",
    "\n",
    "### *Question 2.6.3*:\n",
    "How many principal components do you need to retain at least 0.9 fraction of variance? How does the performance compare to using all features, and to using your feature subset you selected yourself?"
   ]
  },
  {
   "cell_type": "markdown",
   "metadata": {},
   "source": [
    "<font style=\"color:red\">Type your answer here</font>"
   ]
  }
 ],
 "metadata": {
  "hide_input": false,
  "interpreter": {
   "hash": "7cf3cfb4d2a53586223bf4603cd7f9e645cf44a77dbcec96182c9a81e54296ad"
  },
  "kernelspec": {
   "display_name": "Python 3",
   "language": "python",
   "name": "python3"
  },
  "language_info": {
   "codemirror_mode": {
    "name": "ipython",
    "version": 3
   },
   "file_extension": ".py",
   "mimetype": "text/x-python",
   "name": "python",
   "nbconvert_exporter": "python",
   "pygments_lexer": "ipython3",
   "version": "3.8.8"
  }
 },
 "nbformat": 4,
 "nbformat_minor": 4
}
