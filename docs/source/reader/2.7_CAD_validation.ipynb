{
 "cells": [
  {
   "cell_type": "markdown",
   "metadata": {},
   "source": [
    "# Topic 2.7: CAD validation\n",
    "\n",
    "\n",
    "Lecture: Validation (evaluation metrics and methods for CAD)\n",
    "\n",
    "Create new notebook on evaluation metrics for CAD, e.g. precision, recall, DICE, HD, sensitivity, specificity etc. (visualize 2 shapes, use AND and OR operations etc.)\n",
    "\n",
    "Accuracy, Dice score, Hausdorff distances\n",
    "\n",
    "Accuracy = (TP + TN) / (TP+FP+FN+TN)\n",
    "\n",
    "TP = True Positive\n",
    "FP = False Positive\n",
    "FN = False Negative\n",
    "TN = True Negative\n",
    "\n",
    "Measure overlap excluding TN\n",
    "\n",
    "Sørensen–Dice index a.k.a. Dice Similarity Coefficient (DSC)\n",
    "\n",
    "DSC = 2TP /  (2TP + FP + FN)\n",
    "\n",
    "Two equivalent definitions\n",
    "\n",
    "DSC = 2TP /  (2TP + FP + FN) \n",
    "\n",
    "DSC =  2 | A * B | /  ( | A | + | B | ) for binary images A and B\n",
    "\n",
    "| A | = size of blue ground truth\n",
    "| B | = size of red result\n",
    "| A * B| = size of overlap\n",
    "\n",
    "\n",
    "Other relevant evaluation metrics based on TP, FP, etc. are the sensitivity and specificity. \n",
    "\n",
    "Sensitivity = TP / TP + FN\n",
    "Specificity = TN / TN + FP\n",
    "\n",
    "NB: These metrics are commonly used in detection tasks involving medical images. Interestingly, they are also very important when interpreting the performance of any test (e.g., airport security, breast cancer screening, quality assurance in companies, …)\n",
    "\n",
    "Dice (and other metrics based on TP, FP, etc.) are not sensitive to location\n",
    "\n",
    "Hausdorff distance\n",
    "Compare sets of points on the boundaries \n",
    "\n",
    "Hausdorff distance = maximum shortest distance between the boundary points\n",
    "\n",
    "h(A,B)=max┬(𝑎 ∈𝐴)⁡min┬(𝑏 ∈𝐵)⁡𝑑(𝑎,𝑏) \n",
    "\n",
    "𝐻(A,B)=max┬⁡〖(ℎ(𝐴,𝐵), ℎ(𝐵,𝐴))〗\n",
    "\n",
    "Measuring and/or visualizing surface distances can give fascinating insights into the accuracy of a medical image analysis task:\n",
    "\n",
    "\n",
    "Reference:\n",
    "Guide to Medical Image Analysis - Methods and Algorithms https://link.springer.com/book/10.1007/978-1-4471-2751-2\n",
    "\n"
   ]
  }
 ],
 "metadata": {
  "hide_input": false,
  "interpreter": {
   "hash": "7cf3cfb4d2a53586223bf4603cd7f9e645cf44a77dbcec96182c9a81e54296ad"
  },
  "kernelspec": {
   "display_name": "Python 3",
   "language": "python",
   "name": "python3"
  },
  "language_info": {
   "codemirror_mode": {
    "name": "ipython",
    "version": 3
   },
   "file_extension": ".py",
   "mimetype": "text/x-python",
   "name": "python",
   "nbconvert_exporter": "python",
   "pygments_lexer": "ipython3",
   "version": "3.8.8"
  }
 },
 "nbformat": 4,
 "nbformat_minor": 4
}
